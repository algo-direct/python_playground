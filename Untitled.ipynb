{
 "cells": [
  {
   "cell_type": "code",
   "execution_count": 1,
   "id": "c8e643d0",
   "metadata": {},
   "outputs": [],
   "source": [
    "import yfinance as yf\n",
    "import requests_cache\n",
    "session = requests_cache.CachedSession('yfinance.cache')\n",
    "session.headers['User-agent'] = 'my-program/1.0'"
   ]
  },
  {
   "cell_type": "code",
   "execution_count": 2,
   "id": "1b115f4f",
   "metadata": {},
   "outputs": [
    {
     "name": "stdout",
     "output_type": "stream",
     "text": [
      "[*********************100%***********************]  1 of 1 completed\n"
     ]
    }
   ],
   "source": [
    "data = yf.download(tickers = 'TATAMOTORS.NS', start=\"2017-01-01\", interval = \"1d\",\n",
    "ignore_tz = False,auto_adjust = True)"
   ]
  },
  {
   "cell_type": "code",
   "execution_count": 3,
   "id": "da6cc6d2",
   "metadata": {},
   "outputs": [
    {
     "name": "stdout",
     "output_type": "stream",
     "text": [
      "                                 Open        High         Low       Close  \\\n",
      "Date                                                                        \n",
      "2017-01-02 00:00:00+05:30  472.000000  488.700012  469.049988  487.049988   \n",
      "2017-01-03 00:00:00+05:30  491.000000  492.700012  479.899994  481.100006   \n",
      "2017-01-04 00:00:00+05:30  484.649994  493.700012  484.100006  486.649994   \n",
      "2017-01-05 00:00:00+05:30  496.000000  503.399994  495.549988  502.149994   \n",
      "2017-01-06 00:00:00+05:30  502.950012  507.950012  496.250000  497.750000   \n",
      "...                               ...         ...         ...         ...   \n",
      "2022-12-27 00:00:00+05:30  390.000000  397.450012  388.500000  394.149994   \n",
      "2022-12-28 00:00:00+05:30  394.000000  395.899994  390.399994  391.299988   \n",
      "2022-12-29 00:00:00+05:30  389.000000  390.000000  383.049988  385.899994   \n",
      "2022-12-30 00:00:00+05:30  391.000000  392.200012  387.000000  387.950012   \n",
      "2023-01-02 00:00:00+05:30  392.500000  396.000000  391.000000  394.799988   \n",
      "\n",
      "                             Volume  \n",
      "Date                                 \n",
      "2017-01-02 00:00:00+05:30   4024156  \n",
      "2017-01-03 00:00:00+05:30   5814518  \n",
      "2017-01-04 00:00:00+05:30   4769872  \n",
      "2017-01-05 00:00:00+05:30   7961242  \n",
      "2017-01-06 00:00:00+05:30   4907475  \n",
      "...                             ...  \n",
      "2022-12-27 00:00:00+05:30  14372461  \n",
      "2022-12-28 00:00:00+05:30   8443917  \n",
      "2022-12-29 00:00:00+05:30  15627403  \n",
      "2022-12-30 00:00:00+05:30   9198673  \n",
      "2023-01-02 00:00:00+05:30  10498047  \n",
      "\n",
      "[1485 rows x 5 columns]\n"
     ]
    }
   ],
   "source": [
    "print(data)"
   ]
  },
  {
   "cell_type": "code",
   "execution_count": 4,
   "id": "7b11dc3a",
   "metadata": {},
   "outputs": [],
   "source": [
    "import pandas as pd"
   ]
  },
  {
   "cell_type": "code",
   "execution_count": 5,
   "id": "476b68bf",
   "metadata": {},
   "outputs": [],
   "source": [
    "local = pd.read_csv('csv/TATAMOTORS.csv', parse_dates=[\"Timestamp\"])"
   ]
  },
  {
   "cell_type": "code",
   "execution_count": 6,
   "id": "6cb26b5d",
   "metadata": {},
   "outputs": [
    {
     "data": {
      "text/html": [
       "<div>\n",
       "<style scoped>\n",
       "    .dataframe tbody tr th:only-of-type {\n",
       "        vertical-align: middle;\n",
       "    }\n",
       "\n",
       "    .dataframe tbody tr th {\n",
       "        vertical-align: top;\n",
       "    }\n",
       "\n",
       "    .dataframe thead th {\n",
       "        text-align: right;\n",
       "    }\n",
       "</style>\n",
       "<table border=\"1\" class=\"dataframe\">\n",
       "  <thead>\n",
       "    <tr style=\"text-align: right;\">\n",
       "      <th></th>\n",
       "      <th>Timestamp</th>\n",
       "      <th>Open</th>\n",
       "      <th>Low</th>\n",
       "      <th>High</th>\n",
       "      <th>Close</th>\n",
       "      <th>Volumne</th>\n",
       "      <th>OI</th>\n",
       "    </tr>\n",
       "  </thead>\n",
       "  <tbody>\n",
       "    <tr>\n",
       "      <th>0</th>\n",
       "      <td>2017-01-02 09:15:00</td>\n",
       "      <td>472.00</td>\n",
       "      <td>473.00</td>\n",
       "      <td>471.35</td>\n",
       "      <td>472.00</td>\n",
       "      <td>28096</td>\n",
       "      <td>0</td>\n",
       "    </tr>\n",
       "    <tr>\n",
       "      <th>1</th>\n",
       "      <td>2017-01-02 09:16:00</td>\n",
       "      <td>472.00</td>\n",
       "      <td>473.00</td>\n",
       "      <td>472.00</td>\n",
       "      <td>472.85</td>\n",
       "      <td>16635</td>\n",
       "      <td>0</td>\n",
       "    </tr>\n",
       "    <tr>\n",
       "      <th>2</th>\n",
       "      <td>2017-01-02 09:17:00</td>\n",
       "      <td>472.60</td>\n",
       "      <td>473.00</td>\n",
       "      <td>471.00</td>\n",
       "      <td>471.00</td>\n",
       "      <td>12274</td>\n",
       "      <td>0</td>\n",
       "    </tr>\n",
       "    <tr>\n",
       "      <th>3</th>\n",
       "      <td>2017-01-02 09:18:00</td>\n",
       "      <td>470.95</td>\n",
       "      <td>471.70</td>\n",
       "      <td>470.45</td>\n",
       "      <td>471.50</td>\n",
       "      <td>15372</td>\n",
       "      <td>0</td>\n",
       "    </tr>\n",
       "    <tr>\n",
       "      <th>4</th>\n",
       "      <td>2017-01-02 09:19:00</td>\n",
       "      <td>471.50</td>\n",
       "      <td>473.30</td>\n",
       "      <td>471.50</td>\n",
       "      <td>473.00</td>\n",
       "      <td>19115</td>\n",
       "      <td>0</td>\n",
       "    </tr>\n",
       "    <tr>\n",
       "      <th>...</th>\n",
       "      <td>...</td>\n",
       "      <td>...</td>\n",
       "      <td>...</td>\n",
       "      <td>...</td>\n",
       "      <td>...</td>\n",
       "      <td>...</td>\n",
       "      <td>...</td>\n",
       "    </tr>\n",
       "    <tr>\n",
       "      <th>555747</th>\n",
       "      <td>2022-12-30 15:25:00</td>\n",
       "      <td>387.65</td>\n",
       "      <td>387.75</td>\n",
       "      <td>387.55</td>\n",
       "      <td>387.55</td>\n",
       "      <td>28825</td>\n",
       "      <td>0</td>\n",
       "    </tr>\n",
       "    <tr>\n",
       "      <th>555748</th>\n",
       "      <td>2022-12-30 15:26:00</td>\n",
       "      <td>387.60</td>\n",
       "      <td>387.65</td>\n",
       "      <td>387.45</td>\n",
       "      <td>387.60</td>\n",
       "      <td>38769</td>\n",
       "      <td>0</td>\n",
       "    </tr>\n",
       "    <tr>\n",
       "      <th>555749</th>\n",
       "      <td>2022-12-30 15:27:00</td>\n",
       "      <td>387.60</td>\n",
       "      <td>387.60</td>\n",
       "      <td>387.40</td>\n",
       "      <td>387.60</td>\n",
       "      <td>53740</td>\n",
       "      <td>0</td>\n",
       "    </tr>\n",
       "    <tr>\n",
       "      <th>555750</th>\n",
       "      <td>2022-12-30 15:28:00</td>\n",
       "      <td>387.60</td>\n",
       "      <td>387.60</td>\n",
       "      <td>387.40</td>\n",
       "      <td>387.50</td>\n",
       "      <td>42612</td>\n",
       "      <td>0</td>\n",
       "    </tr>\n",
       "    <tr>\n",
       "      <th>555751</th>\n",
       "      <td>2022-12-30 15:29:00</td>\n",
       "      <td>387.55</td>\n",
       "      <td>388.00</td>\n",
       "      <td>387.50</td>\n",
       "      <td>388.00</td>\n",
       "      <td>62250</td>\n",
       "      <td>0</td>\n",
       "    </tr>\n",
       "  </tbody>\n",
       "</table>\n",
       "<p>555752 rows × 7 columns</p>\n",
       "</div>"
      ],
      "text/plain": [
       "                 Timestamp    Open     Low    High   Close  Volumne  OI\n",
       "0      2017-01-02 09:15:00  472.00  473.00  471.35  472.00    28096   0\n",
       "1      2017-01-02 09:16:00  472.00  473.00  472.00  472.85    16635   0\n",
       "2      2017-01-02 09:17:00  472.60  473.00  471.00  471.00    12274   0\n",
       "3      2017-01-02 09:18:00  470.95  471.70  470.45  471.50    15372   0\n",
       "4      2017-01-02 09:19:00  471.50  473.30  471.50  473.00    19115   0\n",
       "...                    ...     ...     ...     ...     ...      ...  ..\n",
       "555747 2022-12-30 15:25:00  387.65  387.75  387.55  387.55    28825   0\n",
       "555748 2022-12-30 15:26:00  387.60  387.65  387.45  387.60    38769   0\n",
       "555749 2022-12-30 15:27:00  387.60  387.60  387.40  387.60    53740   0\n",
       "555750 2022-12-30 15:28:00  387.60  387.60  387.40  387.50    42612   0\n",
       "555751 2022-12-30 15:29:00  387.55  388.00  387.50  388.00    62250   0\n",
       "\n",
       "[555752 rows x 7 columns]"
      ]
     },
     "execution_count": 6,
     "metadata": {},
     "output_type": "execute_result"
    }
   ],
   "source": [
    "local"
   ]
  },
  {
   "cell_type": "code",
   "execution_count": 7,
   "id": "114d2160",
   "metadata": {},
   "outputs": [],
   "source": [
    "import datetime\n",
    "local[\"Date\"] = local[\"Timestamp\"].apply(lambda row:  datetime.datetime(row.date().year, row.date().month, row.date().day))"
   ]
  },
  {
   "cell_type": "code",
   "execution_count": 8,
   "id": "ebff4c3f",
   "metadata": {},
   "outputs": [],
   "source": [
    "dg = local.groupby(\"Date\")"
   ]
  },
  {
   "cell_type": "code",
   "execution_count": 9,
   "id": "21d16db5",
   "metadata": {},
   "outputs": [
    {
     "name": "stdout",
     "output_type": "stream",
     "text": [
      "              Open    High     Low   Close    Volume\n",
      "Date                                                \n",
      "2017-01-02  472.00  488.30  469.60  487.05   4015907\n",
      "2017-01-03  490.90  492.45  480.00  480.50   5803998\n",
      "2017-01-04  484.30  493.45  485.45  486.50   4760224\n",
      "2017-01-05  496.10  503.25  497.15  502.00   7918990\n",
      "2017-01-06  502.90  507.70  496.50  498.55   4888520\n",
      "...            ...     ...     ...     ...       ...\n",
      "2022-12-26  379.50  390.50  376.25  385.30  16917564\n",
      "2022-12-27  389.00  396.85  389.65  395.25  14313253\n",
      "2022-12-28  393.30  395.55  390.50  390.60   8398904\n",
      "2022-12-29  388.65  389.80  383.15  386.65  15581449\n",
      "2022-12-30  390.20  391.90  387.25  388.00   9145612\n",
      "\n",
      "[1487 rows x 5 columns]\n"
     ]
    }
   ],
   "source": [
    "daily = dg.agg(\n",
    "    Open=pd.NamedAgg(column=\"Open\", aggfunc=\"first\"),\n",
    "    High=pd.NamedAgg(column=\"Close\", aggfunc=\"max\"),\n",
    "    Low=pd.NamedAgg(column=\"Close\", aggfunc=\"min\"),\n",
    "    Close=pd.NamedAgg(column=\"Close\", aggfunc=\"last\"),\n",
    "    Volume=pd.NamedAgg(column=\"Volumne\", aggfunc=\"sum\"),\n",
    ")\n",
    "print(daily)"
   ]
  },
  {
   "cell_type": "code",
   "execution_count": 46,
   "id": "a12f23f7",
   "metadata": {},
   "outputs": [
    {
     "ename": "ImportError",
     "evalue": "cannot import name 'ADX' from 'backtesting.test' (/home/ashish/git_repos/python_playground/env/lib/python3.9/site-packages/backtesting/test/__init__.py)",
     "output_type": "error",
     "traceback": [
      "\u001b[0;31m---------------------------------------------------------------------------\u001b[0m",
      "\u001b[0;31mImportError\u001b[0m                               Traceback (most recent call last)",
      "Cell \u001b[0;32mIn[46], line 3\u001b[0m\n\u001b[1;32m      1\u001b[0m \u001b[39mfrom\u001b[39;00m \u001b[39mbacktesting\u001b[39;00m \u001b[39mimport\u001b[39;00m Backtest, Strategy\n\u001b[1;32m      2\u001b[0m \u001b[39mfrom\u001b[39;00m \u001b[39mbacktesting\u001b[39;00m\u001b[39m.\u001b[39;00m\u001b[39mlib\u001b[39;00m \u001b[39mimport\u001b[39;00m crossover, TrailingStrategy\n\u001b[0;32m----> 3\u001b[0m \u001b[39mfrom\u001b[39;00m \u001b[39mbacktesting\u001b[39;00m\u001b[39m.\u001b[39;00m\u001b[39mtest\u001b[39;00m \u001b[39mimport\u001b[39;00m SMA, ADX\n",
      "\u001b[0;31mImportError\u001b[0m: cannot import name 'ADX' from 'backtesting.test' (/home/ashish/git_repos/python_playground/env/lib/python3.9/site-packages/backtesting/test/__init__.py)"
     ]
    }
   ],
   "source": [
    "from backtesting import Backtest, Strategy\n",
    "from backtesting.lib import crossover, TrailingStrategy\n",
    "from backtesting.test import SMA, ADX"
   ]
  },
  {
   "cell_type": "code",
   "execution_count": 47,
   "id": "f78b5516",
   "metadata": {},
   "outputs": [
    {
     "data": {
      "text/html": [
       "<div style=\"display: table;\"><div style=\"display: table-row;\"><div style=\"display: table-cell;\"><b title=\"bokeh.models.layouts.Row\">Row</b>(</div><div style=\"display: table-cell;\">id&nbsp;=&nbsp;'19822', <span id=\"20436\" style=\"cursor: pointer;\">&hellip;)</span></div></div><div class=\"20435\" style=\"display: none;\"><div style=\"display: table-cell;\"></div><div style=\"display: table-cell;\">align&nbsp;=&nbsp;'start',</div></div><div class=\"20435\" style=\"display: none;\"><div style=\"display: table-cell;\"></div><div style=\"display: table-cell;\">aspect_ratio&nbsp;=&nbsp;None,</div></div><div class=\"20435\" style=\"display: none;\"><div style=\"display: table-cell;\"></div><div style=\"display: table-cell;\">background&nbsp;=&nbsp;None,</div></div><div class=\"20435\" style=\"display: none;\"><div style=\"display: table-cell;\"></div><div style=\"display: table-cell;\">children&nbsp;=&nbsp;[GridBox(id='19819', ...), ToolbarBox(id='19821', ...)],</div></div><div class=\"20435\" style=\"display: none;\"><div style=\"display: table-cell;\"></div><div style=\"display: table-cell;\">cols&nbsp;=&nbsp;'auto',</div></div><div class=\"20435\" style=\"display: none;\"><div style=\"display: table-cell;\"></div><div style=\"display: table-cell;\">css_classes&nbsp;=&nbsp;[],</div></div><div class=\"20435\" style=\"display: none;\"><div style=\"display: table-cell;\"></div><div style=\"display: table-cell;\">disabled&nbsp;=&nbsp;False,</div></div><div class=\"20435\" style=\"display: none;\"><div style=\"display: table-cell;\"></div><div style=\"display: table-cell;\">height&nbsp;=&nbsp;None,</div></div><div class=\"20435\" style=\"display: none;\"><div style=\"display: table-cell;\"></div><div style=\"display: table-cell;\">height_policy&nbsp;=&nbsp;'auto',</div></div><div class=\"20435\" style=\"display: none;\"><div style=\"display: table-cell;\"></div><div style=\"display: table-cell;\">js_event_callbacks&nbsp;=&nbsp;{},</div></div><div class=\"20435\" style=\"display: none;\"><div style=\"display: table-cell;\"></div><div style=\"display: table-cell;\">js_property_callbacks&nbsp;=&nbsp;{},</div></div><div class=\"20435\" style=\"display: none;\"><div style=\"display: table-cell;\"></div><div style=\"display: table-cell;\">margin&nbsp;=&nbsp;(0, 0, 0, 0),</div></div><div class=\"20435\" style=\"display: none;\"><div style=\"display: table-cell;\"></div><div style=\"display: table-cell;\">max_height&nbsp;=&nbsp;None,</div></div><div class=\"20435\" style=\"display: none;\"><div style=\"display: table-cell;\"></div><div style=\"display: table-cell;\">max_width&nbsp;=&nbsp;None,</div></div><div class=\"20435\" style=\"display: none;\"><div style=\"display: table-cell;\"></div><div style=\"display: table-cell;\">min_height&nbsp;=&nbsp;None,</div></div><div class=\"20435\" style=\"display: none;\"><div style=\"display: table-cell;\"></div><div style=\"display: table-cell;\">min_width&nbsp;=&nbsp;None,</div></div><div class=\"20435\" style=\"display: none;\"><div style=\"display: table-cell;\"></div><div style=\"display: table-cell;\">name&nbsp;=&nbsp;None,</div></div><div class=\"20435\" style=\"display: none;\"><div style=\"display: table-cell;\"></div><div style=\"display: table-cell;\">sizing_mode&nbsp;=&nbsp;'stretch_width',</div></div><div class=\"20435\" style=\"display: none;\"><div style=\"display: table-cell;\"></div><div style=\"display: table-cell;\">spacing&nbsp;=&nbsp;0,</div></div><div class=\"20435\" style=\"display: none;\"><div style=\"display: table-cell;\"></div><div style=\"display: table-cell;\">subscribed_events&nbsp;=&nbsp;[],</div></div><div class=\"20435\" style=\"display: none;\"><div style=\"display: table-cell;\"></div><div style=\"display: table-cell;\">syncable&nbsp;=&nbsp;True,</div></div><div class=\"20435\" style=\"display: none;\"><div style=\"display: table-cell;\"></div><div style=\"display: table-cell;\">tags&nbsp;=&nbsp;[],</div></div><div class=\"20435\" style=\"display: none;\"><div style=\"display: table-cell;\"></div><div style=\"display: table-cell;\">visible&nbsp;=&nbsp;True,</div></div><div class=\"20435\" style=\"display: none;\"><div style=\"display: table-cell;\"></div><div style=\"display: table-cell;\">width&nbsp;=&nbsp;None,</div></div><div class=\"20435\" style=\"display: none;\"><div style=\"display: table-cell;\"></div><div style=\"display: table-cell;\">width_policy&nbsp;=&nbsp;'auto')</div></div></div>\n",
       "<script>\n",
       "(function() {\n",
       "  let expanded = false;\n",
       "  const ellipsis = document.getElementById(\"20436\");\n",
       "  ellipsis.addEventListener(\"click\", function() {\n",
       "    const rows = document.getElementsByClassName(\"20435\");\n",
       "    for (let i = 0; i < rows.length; i++) {\n",
       "      const el = rows[i];\n",
       "      el.style.display = expanded ? \"none\" : \"table-row\";\n",
       "    }\n",
       "    ellipsis.innerHTML = expanded ? \"&hellip;)\" : \"&lsaquo;&lsaquo;&lsaquo;\";\n",
       "    expanded = !expanded;\n",
       "  });\n",
       "})();\n",
       "</script>\n"
      ],
      "text/plain": [
       "Row(id='19822', ...)"
      ]
     },
     "execution_count": 47,
     "metadata": {},
     "output_type": "execute_result"
    }
   ],
   "source": [
    "class SmaCross(Strategy):\n",
    "    n1 = 10\n",
    "    n2 = 20\n",
    "    stop_range=4\n",
    "    prev_check=30\n",
    "\n",
    "    def init(self):\n",
    "        close = self.data.Close\n",
    "        self.sma1 = self.I(SMA, close, self.n1)\n",
    "        self.sma2 = self.I(SMA, close, self.n2)\n",
    "        super().init()\n",
    "        self.ticks = 0\n",
    "        # super().set_trailing_sl(self.stop_range)\n",
    "\n",
    "    def next(self):\n",
    "        self.ticks += 1\n",
    "        if self.prev_check >= self.ticks:\n",
    "            return\n",
    "        if crossover(self.sma1, self.sma2):\n",
    "            if self.position: pass\n",
    "            price = self.data.Close[-1]\n",
    "            old_price = self.data.Close[-1 * self.prev_check]\n",
    "            if price < old_price:\n",
    "                return\n",
    "            self.buy(sl=price * (100 - self.stop_range) / 100)\n",
    "        elif crossover(self.sma2, self.sma1):\n",
    "            self.position.close()\n",
    "            # self.sell(sl=price * (100 + self.stop_range) / 100)\n",
    "bt = Backtest(daily, SmaCross,\n",
    "              cash=10000, commission=.002,\n",
    "              exclusive_orders=True)\n",
    "\n",
    "output = bt.run()\n",
    "bt.plot(filename=\"b.html\")"
   ]
  },
  {
   "cell_type": "code",
   "execution_count": 39,
   "id": "dfb28745",
   "metadata": {},
   "outputs": [
    {
     "name": "stderr",
     "output_type": "stream",
     "text": [
      "/home/ashish/git_repos/python_playground/env/lib/python3.9/site-packages/backtesting/backtesting.py:1488: UserWarning: Searching for best of 350 configurations.\n",
      "  output = _optimize_grid()\n"
     ]
    },
    {
     "data": {
      "text/html": [
       "<div style=\"display: table;\"><div style=\"display: table-row;\"><div style=\"display: table-cell;\"><b title=\"bokeh.models.layouts.Row\">Row</b>(</div><div style=\"display: table-cell;\">id&nbsp;=&nbsp;'14596', <span id=\"15210\" style=\"cursor: pointer;\">&hellip;)</span></div></div><div class=\"15209\" style=\"display: none;\"><div style=\"display: table-cell;\"></div><div style=\"display: table-cell;\">align&nbsp;=&nbsp;'start',</div></div><div class=\"15209\" style=\"display: none;\"><div style=\"display: table-cell;\"></div><div style=\"display: table-cell;\">aspect_ratio&nbsp;=&nbsp;None,</div></div><div class=\"15209\" style=\"display: none;\"><div style=\"display: table-cell;\"></div><div style=\"display: table-cell;\">background&nbsp;=&nbsp;None,</div></div><div class=\"15209\" style=\"display: none;\"><div style=\"display: table-cell;\"></div><div style=\"display: table-cell;\">children&nbsp;=&nbsp;[GridBox(id='14593', ...), ToolbarBox(id='14595', ...)],</div></div><div class=\"15209\" style=\"display: none;\"><div style=\"display: table-cell;\"></div><div style=\"display: table-cell;\">cols&nbsp;=&nbsp;'auto',</div></div><div class=\"15209\" style=\"display: none;\"><div style=\"display: table-cell;\"></div><div style=\"display: table-cell;\">css_classes&nbsp;=&nbsp;[],</div></div><div class=\"15209\" style=\"display: none;\"><div style=\"display: table-cell;\"></div><div style=\"display: table-cell;\">disabled&nbsp;=&nbsp;False,</div></div><div class=\"15209\" style=\"display: none;\"><div style=\"display: table-cell;\"></div><div style=\"display: table-cell;\">height&nbsp;=&nbsp;None,</div></div><div class=\"15209\" style=\"display: none;\"><div style=\"display: table-cell;\"></div><div style=\"display: table-cell;\">height_policy&nbsp;=&nbsp;'auto',</div></div><div class=\"15209\" style=\"display: none;\"><div style=\"display: table-cell;\"></div><div style=\"display: table-cell;\">js_event_callbacks&nbsp;=&nbsp;{},</div></div><div class=\"15209\" style=\"display: none;\"><div style=\"display: table-cell;\"></div><div style=\"display: table-cell;\">js_property_callbacks&nbsp;=&nbsp;{},</div></div><div class=\"15209\" style=\"display: none;\"><div style=\"display: table-cell;\"></div><div style=\"display: table-cell;\">margin&nbsp;=&nbsp;(0, 0, 0, 0),</div></div><div class=\"15209\" style=\"display: none;\"><div style=\"display: table-cell;\"></div><div style=\"display: table-cell;\">max_height&nbsp;=&nbsp;None,</div></div><div class=\"15209\" style=\"display: none;\"><div style=\"display: table-cell;\"></div><div style=\"display: table-cell;\">max_width&nbsp;=&nbsp;None,</div></div><div class=\"15209\" style=\"display: none;\"><div style=\"display: table-cell;\"></div><div style=\"display: table-cell;\">min_height&nbsp;=&nbsp;None,</div></div><div class=\"15209\" style=\"display: none;\"><div style=\"display: table-cell;\"></div><div style=\"display: table-cell;\">min_width&nbsp;=&nbsp;None,</div></div><div class=\"15209\" style=\"display: none;\"><div style=\"display: table-cell;\"></div><div style=\"display: table-cell;\">name&nbsp;=&nbsp;None,</div></div><div class=\"15209\" style=\"display: none;\"><div style=\"display: table-cell;\"></div><div style=\"display: table-cell;\">sizing_mode&nbsp;=&nbsp;'stretch_width',</div></div><div class=\"15209\" style=\"display: none;\"><div style=\"display: table-cell;\"></div><div style=\"display: table-cell;\">spacing&nbsp;=&nbsp;0,</div></div><div class=\"15209\" style=\"display: none;\"><div style=\"display: table-cell;\"></div><div style=\"display: table-cell;\">subscribed_events&nbsp;=&nbsp;[],</div></div><div class=\"15209\" style=\"display: none;\"><div style=\"display: table-cell;\"></div><div style=\"display: table-cell;\">syncable&nbsp;=&nbsp;True,</div></div><div class=\"15209\" style=\"display: none;\"><div style=\"display: table-cell;\"></div><div style=\"display: table-cell;\">tags&nbsp;=&nbsp;[],</div></div><div class=\"15209\" style=\"display: none;\"><div style=\"display: table-cell;\"></div><div style=\"display: table-cell;\">visible&nbsp;=&nbsp;True,</div></div><div class=\"15209\" style=\"display: none;\"><div style=\"display: table-cell;\"></div><div style=\"display: table-cell;\">width&nbsp;=&nbsp;None,</div></div><div class=\"15209\" style=\"display: none;\"><div style=\"display: table-cell;\"></div><div style=\"display: table-cell;\">width_policy&nbsp;=&nbsp;'auto')</div></div></div>\n",
       "<script>\n",
       "(function() {\n",
       "  let expanded = false;\n",
       "  const ellipsis = document.getElementById(\"15210\");\n",
       "  ellipsis.addEventListener(\"click\", function() {\n",
       "    const rows = document.getElementsByClassName(\"15209\");\n",
       "    for (let i = 0; i < rows.length; i++) {\n",
       "      const el = rows[i];\n",
       "      el.style.display = expanded ? \"none\" : \"table-row\";\n",
       "    }\n",
       "    ellipsis.innerHTML = expanded ? \"&hellip;)\" : \"&lsaquo;&lsaquo;&lsaquo;\";\n",
       "    expanded = !expanded;\n",
       "  });\n",
       "})();\n",
       "</script>\n"
      ],
      "text/plain": [
       "Row(id='14596', ...)"
      ]
     },
     "execution_count": 39,
     "metadata": {},
     "output_type": "execute_result"
    }
   ],
   "source": [
    "stats = bt.optimize(n1=range(5, 30, 5),\n",
    "                    n2=range(10, 70, 5),\n",
    "                    stop_range=range(1,8),\n",
    "                    maximize='Equity Final [$]',\n",
    "                    # maximize='Win Rate [%]',\n",
    "                    constraint=lambda param: param.n1 < param.n2)\n",
    "bt.plot(filename=\"b.html\")"
   ]
  },
  {
   "cell_type": "code",
   "execution_count": 30,
   "id": "e50fc45a",
   "metadata": {},
   "outputs": [
    {
     "data": {
      "text/plain": [
       "Start                     2017-01-02 00:00:00\n",
       "End                       2022-12-30 00:00:00\n",
       "Duration                   2188 days 00:00:00\n",
       "Exposure Time [%]                   93.544048\n",
       "Equity Final [$]                  110103.9276\n",
       "Equity Peak [$]                   119797.2553\n",
       "Return [%]                        1001.039276\n",
       "Buy & Hold Return [%]              -20.336721\n",
       "Return (Ann.) [%]                   50.159564\n",
       "Volatility (Ann.) [%]                63.54705\n",
       "Sharpe Ratio                          0.78933\n",
       "Sortino Ratio                        2.149162\n",
       "Calmar Ratio                         1.467211\n",
       "Max. Drawdown [%]                  -34.187008\n",
       "Avg. Drawdown [%]                   -8.046808\n",
       "Max. Drawdown Duration      265 days 00:00:00\n",
       "Avg. Drawdown Duration       44 days 00:00:00\n",
       "# Trades                                   53\n",
       "Win Rate [%]                        50.943396\n",
       "Best Trade [%]                      59.757606\n",
       "Worst Trade [%]                     -9.405043\n",
       "Avg. Trade [%]                       4.648591\n",
       "Max. Trade Duration         127 days 00:00:00\n",
       "Avg. Trade Duration          39 days 00:00:00\n",
       "Profit Factor                        3.139088\n",
       "Expectancy [%]                       5.766186\n",
       "SQN                                  2.007842\n",
       "_strategy                 SmaCross(n1=10,n...\n",
       "_equity_curve                             ...\n",
       "_trades                       Size  EntryB...\n",
       "dtype: object"
      ]
     },
     "execution_count": 30,
     "metadata": {},
     "output_type": "execute_result"
    }
   ],
   "source": [
    "stats"
   ]
  },
  {
   "cell_type": "code",
   "execution_count": 40,
   "id": "4134afd3",
   "metadata": {},
   "outputs": [
    {
     "data": {
      "text/plain": [
       "<Strategy SmaCross(n1=15,n2=50,stop_range=4)>"
      ]
     },
     "execution_count": 40,
     "metadata": {},
     "output_type": "execute_result"
    }
   ],
   "source": [
    "stats._strategy"
   ]
  },
  {
   "cell_type": "code",
   "execution_count": null,
   "id": "06256832",
   "metadata": {},
   "outputs": [],
   "source": []
  }
 ],
 "metadata": {
  "kernelspec": {
   "display_name": "Python 3.9.2 ('env': venv)",
   "language": "python",
   "name": "python3"
  },
  "language_info": {
   "codemirror_mode": {
    "name": "ipython",
    "version": 3
   },
   "file_extension": ".py",
   "mimetype": "text/x-python",
   "name": "python",
   "nbconvert_exporter": "python",
   "pygments_lexer": "ipython3",
   "version": "3.9.2"
  },
  "vscode": {
   "interpreter": {
    "hash": "a3d267ca9005103377754095de64a8f8d8a31c7cb62a8a9b14fc6b5576e1f5e5"
   }
  }
 },
 "nbformat": 4,
 "nbformat_minor": 5
}
