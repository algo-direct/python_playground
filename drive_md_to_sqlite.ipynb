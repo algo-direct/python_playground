{
 "cells": [
  {
   "cell_type": "code",
   "execution_count": 1,
   "id": "dbec45ae",
   "metadata": {},
   "outputs": [],
   "source": [
    "import zipfile\n",
    "import os\n",
    "import sqlite3\n",
    "from zipfile import ZipFile\n",
    "import csv\n",
    "from io import StringIO\n",
    "from datetime import datetime"
   ]
  },
  {
   "cell_type": "code",
   "execution_count": 3,
   "id": "c4db7902",
   "metadata": {},
   "outputs": [],
   "source": [
    "con = sqlite3.connect(\"drive_md.sqlite.db\")\n",
    "cur = con.cursor()\n",
    "try:\n",
    "    cur.execute(\"CREATE TABLE drive_md_oneminute(Symbol TEXT, Timestamp DATETIME, Open REAL, Low REAL, High REAL, Close REAL, Volumne INT, OI INT, PRIMARY KEY (Symbol, Timestamp));\"\n",
    "           )\n",
    "except:\n",
    "    pass\n",
    "con.commit()"
   ]
  },
  {
   "cell_type": "code",
   "execution_count": 4,
   "id": "fd6cf970",
   "metadata": {},
   "outputs": [],
   "source": [
    "def zip_to_sqlite(filename, year, month):\n",
    "    rows_inserted = 0\n",
    "    with ZipFile(filename) as zf:\n",
    "        cur = con.cursor()\n",
    "        for file in zf.namelist():\n",
    "            #print(f\"file:{file}, year:{year}, month:{month}\")\n",
    "            if file.endswith(\".zip\"): continue\n",
    "            with zf.open(file, \"r\") as myfile:\n",
    "                csv_reader = csv.reader(StringIO(myfile.read().decode('utf-8')))\n",
    "                for row in csv_reader:\n",
    "                    try:\n",
    "                        cur.execute(\n",
    "                        \"INSERT INTO drive_md_oneminute(Symbol, Timestamp, Open, Low, High, Close, Volumne, OI) values (?, ?, ?, ?, ?, ?, ?, ?)\",\n",
    "            (row[0], datetime.strptime(row[1]+' '+row[2]+' IST', '%Y%m%d %H:%M %Z'),\n",
    "             row[3],row[4],row[5],row[6],row[7],row[8] if len(row)>8 else 0))\n",
    "                        rows_inserted += 1\n",
    "                    except Exception as ex:\n",
    "                        if not str(ex).startswith('UNIQUE'):\n",
    "                            print(f\"zip file:{filename}, file:{file}, year:{year}, month:{month}, exception:{ex}\")\n",
    "    con.commit()\n",
    "    return rows_inserted\n"
   ]
  },
  {
   "cell_type": "code",
   "execution_count": 8,
   "id": "b22c30c2",
   "metadata": {},
   "outputs": [
    {
     "name": "stdout",
     "output_type": "stream",
     "text": [
      "data/2017/JAN\n",
      "data/2017/FEB\n",
      "data/2017/MAR\n",
      "data/2017/APR\n",
      "data/2017/MAY\n",
      "data/2017/JUN\n",
      "data/2017/JUL\n",
      "data/2017/AUG\n",
      "data/2017/SEP\n",
      "data/2017/OCT\n",
      "data/2017/NOV\n",
      "data/2017/DEC\n",
      "data/2018/JAN\n",
      "data/2018/FEB\n",
      "data/2018/MAR\n",
      "data/2018/APR\n",
      "data/2018/MAY\n",
      "data/2018/JUN\n",
      "data/2018/JUL\n",
      "data/2018/AUG\n",
      "data/2018/SEP\n",
      "data/2018/OCT\n",
      "data/2018/NOV\n",
      "data/2018/DEC\n",
      "data/2019/JAN\n",
      "data/2019/FEB\n",
      "data/2019/MAR\n",
      "data/2019/APR\n",
      "data/2019/MAY\n",
      "data/2019/JUN\n",
      "data/2019/JUL\n",
      "data/2019/AUG\n",
      "data/2019/SEP\n",
      "data/2019/OCT\n",
      "data/2019/NOV\n",
      "data/2019/DEC\n",
      "data/2020/JAN\n",
      "data/2020/FEB\n",
      "data/2020/MAR\n",
      "data/2020/APR\n",
      "data/2020/MAY\n",
      "data/2020/JUN\n",
      "data/2020/JUL\n",
      "data/2020/AUG\n",
      "data/2020/SEP\n",
      "data/2020/OCT\n",
      "data/2020/NOV\n",
      "data/2020/DEC\n",
      "data/2021/JAN\n",
      "data/2021/FEB\n",
      "data/2021/MAR\n",
      "data/2021/APR\n",
      "data/2021/MAY\n",
      "data/2021/JUN\n",
      "data/2021/JUL\n",
      "data/2021/AUG\n",
      "data/2021/SEP\n",
      "data/2021/OCT\n",
      "data/2021/NOV\n",
      "data/2021/DEC\n",
      "data/2022/JAN\n",
      "data/2022/FEB\n",
      "data/2022/MAR\n",
      "data/2022/APR\n",
      "data/2022/MAY\n",
      "data/2022/JUN\n",
      "data/2022/JUL\n",
      "data/2022/AUG\n",
      "data/2022/SEP\n",
      "data/2022/OCT\n",
      "data/2022/NOV\n",
      "data/2022/DEC\n",
      "year:2022, month:DEC monthly_data_file not found !!!!!!!!!!!!!!!!!!!!!!!!!!!!!!!\n",
      "daily_file_name:data/2022/DEC/01DEC.zip\n",
      "year:2022, month:DEC, rows_inserted:0, total_rows_inserted:0\n",
      "daily_file_name:data/2022/DEC/02DEC.zip\n",
      "year:2022, month:DEC, rows_inserted:0, total_rows_inserted:0\n",
      "daily_file_name:data/2022/DEC/03DEC.zip\n",
      "daily_file_name:data/2022/DEC/04DEC.zip\n",
      "daily_file_name:data/2022/DEC/05DEC.zip\n",
      "year:2022, month:DEC, rows_inserted:71391, total_rows_inserted:71391\n",
      "daily_file_name:data/2022/DEC/06DEC.zip\n",
      "year:2022, month:DEC, rows_inserted:70247, total_rows_inserted:141638\n",
      "daily_file_name:data/2022/DEC/07DEC.zip\n",
      "year:2022, month:DEC, rows_inserted:70645, total_rows_inserted:212283\n",
      "daily_file_name:data/2022/DEC/08DEC.zip\n",
      "year:2022, month:DEC, rows_inserted:70102, total_rows_inserted:282385\n",
      "daily_file_name:data/2022/DEC/09DEC.zip\n",
      "year:2022, month:DEC, rows_inserted:72287, total_rows_inserted:354672\n",
      "daily_file_name:data/2022/DEC/10DEC.zip\n",
      "daily_file_name:data/2022/DEC/11DEC.zip\n",
      "daily_file_name:data/2022/DEC/12DEC.zip\n",
      "year:2022, month:DEC, rows_inserted:70741, total_rows_inserted:425413\n",
      "daily_file_name:data/2022/DEC/13DEC.zip\n",
      "daily_file_name:data/2022/DEC/14DEC.zip\n",
      "daily_file_name:data/2022/DEC/15DEC.zip\n",
      "daily_file_name:data/2022/DEC/16DEC.zip\n",
      "daily_file_name:data/2022/DEC/17DEC.zip\n",
      "daily_file_name:data/2022/DEC/18DEC.zip\n",
      "daily_file_name:data/2022/DEC/19DEC.zip\n",
      "daily_file_name:data/2022/DEC/20DEC.zip\n",
      "daily_file_name:data/2022/DEC/21DEC.zip\n",
      "daily_file_name:data/2022/DEC/22DEC.zip\n",
      "daily_file_name:data/2022/DEC/23DEC.zip\n",
      "daily_file_name:data/2022/DEC/24DEC.zip\n",
      "daily_file_name:data/2022/DEC/25DEC.zip\n",
      "daily_file_name:data/2022/DEC/26DEC.zip\n",
      "daily_file_name:data/2022/DEC/27DEC.zip\n",
      "daily_file_name:data/2022/DEC/28DEC.zip\n",
      "daily_file_name:data/2022/DEC/29DEC.zip\n",
      "daily_file_name:data/2022/DEC/30DEC.zip\n",
      "daily_file_name:data/2022/DEC/31DEC.zip\n"
     ]
    }
   ],
   "source": [
    "total_rows_inserted = 0\n",
    "for year in range(2017,2097):\n",
    "    for month in ['JAN','FEB','MAR','APR','MAY','JUN','JUL','AUG','SEP','OCT','NOV','DEC']:\n",
    "        path = os.path.join(\"data\", str(year), month)\n",
    "        if not os.path.exists(path): continue\n",
    "        print(path)\n",
    "        onlyfiles = [f for f in os.listdir(path) if os.path.isfile(os.path.join(path, f))]\n",
    "        nifty_file_name_conv1 = f\"NIFTY50_{month}{year}.zip\"\n",
    "        nifty_file_name_conv2 = f\"NIFTY50_{month}{year}(with_OI).zip\"\n",
    "        monthly_data_file = \"\"\n",
    "        for file_name in onlyfiles:\n",
    "            if file_name == nifty_file_name_conv1:\n",
    "                monthly_data_file = file_name\n",
    "                break\n",
    "            if file_name == nifty_file_name_conv2:\n",
    "                monthly_data_file = file_name\n",
    "                break\n",
    "            if file_name.find(\"Intraday\") != -1:\n",
    "                if file_name.find(f\"{month}{year}.zip\") != -1:\n",
    "                    monthly_data_file = file_name\n",
    "                    break\n",
    "        if monthly_data_file != \"\":\n",
    "            monthly_data_file = os.path.join(path, monthly_data_file)\n",
    "            print(f\"monthly_data_file:{monthly_data_file}\")\n",
    "            rows_inserted = zip_to_sqlite(monthly_data_file, year, month)\n",
    "            total_rows_inserted += rows_inserted\n",
    "            print(f\"year:{year}, month:{month}, rows_inserted:{rows_inserted}, total_rows_inserted:{total_rows_inserted}\")\n",
    "        else:\n",
    "            print(f\"year:{year}, month:{month} monthly_data_file not found !!!!!!!!!!!!!!!!!!!!!!!!!!!!!!!\")\n",
    "            for day_of_month in list(range(1,32)):\n",
    "                daily_file_name = f\"{day_of_month:02}{month}.zip\"\n",
    "                daily_file_name = os.path.join(path, daily_file_name)\n",
    "                if not os.path.exists(daily_file_name): continue\n",
    "                print(f\"daily_file_name:{daily_file_name}\")\n",
    "                rows_inserted = zip_to_sqlite(daily_file_name, year, month)\n",
    "                total_rows_inserted += rows_inserted\n",
    "                print(f\"year:{year}, month:{month}, rows_inserted:{rows_inserted}, total_rows_inserted:{total_rows_inserted}\")\n",
    "                \n",
    "    "
   ]
  },
  {
   "cell_type": "code",
   "execution_count": 4,
   "id": "3e9ad20e",
   "metadata": {},
   "outputs": [],
   "source": []
  },
  {
   "cell_type": "code",
   "execution_count": 5,
   "id": "d0bce4f2",
   "metadata": {},
   "outputs": [],
   "source": []
  },
  {
   "cell_type": "code",
   "execution_count": 1,
   "id": "2a234e3b",
   "metadata": {},
   "outputs": [
    {
     "data": {
      "text/plain": [
       "range(1, 32)"
      ]
     },
     "execution_count": 1,
     "metadata": {},
     "output_type": "execute_result"
    }
   ],
   "source": [
    "range(1,32)"
   ]
  },
  {
   "cell_type": "code",
   "execution_count": 3,
   "id": "b9ae305f",
   "metadata": {},
   "outputs": [
    {
     "name": "stdout",
     "output_type": "stream",
     "text": [
      "[1, 2, 3, 4, 5, 6, 7, 8, 9, 10, 11, 12, 13, 14, 15, 16, 17, 18, 19, 20, 21, 22, 23, 24, 25, 26, 27, 28, 29, 30, 31]\n"
     ]
    }
   ],
   "source": [
    "print(list(range(1,32)))"
   ]
  },
  {
   "cell_type": "code",
   "execution_count": null,
   "id": "9b98b5cf",
   "metadata": {},
   "outputs": [],
   "source": []
  }
 ],
 "metadata": {
  "kernelspec": {
   "display_name": "Python 3 (ipykernel)",
   "language": "python",
   "name": "python3"
  },
  "language_info": {
   "codemirror_mode": {
    "name": "ipython",
    "version": 3
   },
   "file_extension": ".py",
   "mimetype": "text/x-python",
   "name": "python",
   "nbconvert_exporter": "python",
   "pygments_lexer": "ipython3",
   "version": "3.10.6"
  }
 },
 "nbformat": 4,
 "nbformat_minor": 5
}
